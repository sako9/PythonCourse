{
 "cells": [
  {
   "cell_type": "markdown",
   "metadata": {},
   "source": [
    "# Intro to Python Programming - Lesson 3\n",
    "\n",
    "## Introduction\n",
    "\n",
    "Welcome back to another Python Lesson! Last week we discussed variables, functions and the style conventions of python. Today we are going to cover Control Flow.\n",
    "\n",
    "In computer science control flow (or flow of control) is the order in which individual statements, instructions or function calls of an imperative program are executed or evaluated. We use logicial operators and statement blocks to control the flow of our programs.\n",
    "\n",
    "## Logical Operators\n",
    "\n",
    "Logical operators are typically used with Boolean (logical) values. When they are evaluated, they return a Boolean value. A boolean is a datatype that can only have two values, True or False. While a boolean can only have two values these values give us a lot of control over the flow of our programs. Some common logical operators are >(greater than), <(less than), ==(equal to), >=(greater than or equal to ), <= (less than or equal to ) \n"
   ]
  },
  {
   "cell_type": "code",
   "execution_count": 1,
   "metadata": {},
   "outputs": [
    {
     "data": {
      "text/plain": [
       "True"
      ]
     },
     "execution_count": 1,
     "metadata": {},
     "output_type": "execute_result"
    }
   ],
   "source": [
    "5 > 2"
   ]
  },
  {
   "cell_type": "code",
   "execution_count": 2,
   "metadata": {},
   "outputs": [
    {
     "data": {
      "text/plain": [
       "False"
      ]
     },
     "execution_count": 2,
     "metadata": {},
     "output_type": "execute_result"
    }
   ],
   "source": [
    "5 < 2"
   ]
  },
  {
   "cell_type": "code",
   "execution_count": 3,
   "metadata": {},
   "outputs": [
    {
     "data": {
      "text/plain": [
       "True"
      ]
     },
     "execution_count": 3,
     "metadata": {},
     "output_type": "execute_result"
    }
   ],
   "source": [
    "20 >= 19"
   ]
  },
  {
   "cell_type": "code",
   "execution_count": 4,
   "metadata": {},
   "outputs": [
    {
     "data": {
      "text/plain": [
       "True"
      ]
     },
     "execution_count": 4,
     "metadata": {},
     "output_type": "execute_result"
    }
   ],
   "source": [
    "30 == 30"
   ]
  },
  {
   "cell_type": "code",
   "execution_count": 5,
   "metadata": {},
   "outputs": [
    {
     "data": {
      "text/plain": [
       "False"
      ]
     },
     "execution_count": 5,
     "metadata": {},
     "output_type": "execute_result"
    }
   ],
   "source": [
    "100 <= 23"
   ]
  },
  {
   "cell_type": "markdown",
   "metadata": {},
   "source": [
    "So far we've only seen single comparisions but we can chain these comparisons together using the <b>and</b> and the <b>or</b> keywords. An and statements resolves to true if and only if both sides are true while an or statement resolves to true if at least one side is true. With these key words you can chain together as many statements as you want."
   ]
  },
  {
   "cell_type": "code",
   "execution_count": 6,
   "metadata": {},
   "outputs": [
    {
     "data": {
      "text/plain": [
       "True"
      ]
     },
     "execution_count": 6,
     "metadata": {},
     "output_type": "execute_result"
    }
   ],
   "source": [
    "3 < 5 and 10 > 3"
   ]
  },
  {
   "cell_type": "code",
   "execution_count": 7,
   "metadata": {},
   "outputs": [
    {
     "data": {
      "text/plain": [
       "True"
      ]
     },
     "execution_count": 7,
     "metadata": {},
     "output_type": "execute_result"
    }
   ],
   "source": [
    "10 < 3 or 10 > 3"
   ]
  },
  {
   "cell_type": "code",
   "execution_count": 8,
   "metadata": {},
   "outputs": [
    {
     "data": {
      "text/plain": [
       "True"
      ]
     },
     "execution_count": 8,
     "metadata": {},
     "output_type": "execute_result"
    }
   ],
   "source": [
    "(20 == 20 and 10 > 3) or (20 == 11 and 23 < 21)"
   ]
  },
  {
   "cell_type": "markdown",
   "metadata": {},
   "source": [
    "Another keyword we can use in our comparisions is the <b>not</b> keyword. The <b>not</b> keyword allows us to negate the value of boolean. We can change true to false and false to true."
   ]
  },
  {
   "cell_type": "code",
   "execution_count": 9,
   "metadata": {},
   "outputs": [
    {
     "data": {
      "text/plain": [
       "False"
      ]
     },
     "execution_count": 9,
     "metadata": {},
     "output_type": "execute_result"
    }
   ],
   "source": [
    "not True"
   ]
  },
  {
   "cell_type": "code",
   "execution_count": 10,
   "metadata": {},
   "outputs": [
    {
     "data": {
      "text/plain": [
       "False"
      ]
     },
     "execution_count": 10,
     "metadata": {},
     "output_type": "execute_result"
    }
   ],
   "source": [
    "not 3 < 5"
   ]
  },
  {
   "cell_type": "markdown",
   "metadata": {},
   "source": [
    "## If Else Elif\n",
    "\n",
    "Now that we know about the boolean datatype and logical operators, let's introduce the conditional statements. Very often when you write code, you want to perform different actions for different decisions, this is were conditional statements come it. In Python we have the following conditional statements:\n",
    "\n",
    "* Use <b>if</b> to specify a block of code to be executed, if a specified condition is true\n",
    "* Use <b>else</b> to specify a block of code to be executed, if the same condition is false\n",
    "* Use <b>elif</b> to specify a new condition to test, if the first condition is false\n",
    "\n",
    "For a quick example let's say I wanted to write a function that prints outs a message passed on someone's age\n",
    "```\n",
    "def allowed_in(age):\n",
    "    if(age < 13):\n",
    "        print(\"You are too young to enter\")\n",
    "    elif(age >= 13 and age < 21):\n",
    "        print(\"You can enter but you need to be with an adult\")\n",
    "    else:\n",
    "        print(\"Come right in!\")\n",
    "```\n",
    "As you can see my initial condition is checking wether or not a given age is less than 13, if it was true we would print out \"you are too young to enter\" but if it was false we would go onto the elif and check if the age is greater than or equal to 13 and less than 21. If that was true we would print out \"You can enter but you need to be with an adult\" but if it was false we would go to the else and print \"Come right in!\". Not any code written after the if/elif/else statement will still run except in cases where you <b>return</b> within the if/elif/else statement"
   ]
  },
  {
   "cell_type": "code",
   "execution_count": 19,
   "metadata": {},
   "outputs": [
    {
     "name": "stdout",
     "output_type": "stream",
     "text": [
      "You are too young to enter\n",
      "You can enter but you need to be with an adult\n",
      "Come right in!\n"
     ]
    }
   ],
   "source": [
    "def allowed_in(age):\n",
    "    if(age < 13):\n",
    "        print(\"You are too young to enter\")\n",
    "    elif(age >= 13 and age < 21):\n",
    "        print(\"You can enter but you need to be with an adult\")\n",
    "    else:\n",
    "        print(\"Come right in!\")\n",
    "allowed_in(3)\n",
    "allowed_in(15)\n",
    "allowed_in(22)"
   ]
  },
  {
   "cell_type": "markdown",
   "metadata": {},
   "source": [
    "## Let's go for a loop\n",
    "\n",
    "When writing code you will probably come into a situation where you need to perform a block of logic multiple times like this:\n",
    "\n",
    "```\n",
    "def count_to_ten:\n",
    "    print(1)\n",
    "    print(2)\n",
    "    print(3)\n",
    "    print(4)\n",
    "    print(5)\n",
    "    print(6)\n",
    "    print(7)\n",
    "    print(8)\n",
    "    print(9)\n",
    "    print(10)\n",
    "```\n",
    "As you can see that's a lot of redundant code luckily for us we have loops. In python we have two types of loops: for loops and while loops. For loops are traditionally used when you have a block of code which you want to repeat a fixed number of times. The Python for statement iterates over the members of a sequence in order, executing the block each time. Contrast the for statement with the ''while'' loop, used when a condition needs to be checked each iteration, or to repeat a block of code forever.\n",
    "\n",
    "```\n",
    "#for loop\n",
    "\n",
    "for x in range(10):\n",
    "    print(x)\n",
    "```\n",
    "\n",
    "range is a built in function that returns a sequence from 0 to x in the case of range(x) or from x to y in the case of range(x, y) exclusive. The sequence looks like this [0,1,2,3,4,5,6,7,8,9], and the <b>x in</b> part of the for loop takes the value of each element in the sequence. Resulting in"
   ]
  },
  {
   "cell_type": "code",
   "execution_count": 20,
   "metadata": {},
   "outputs": [
    {
     "name": "stdout",
     "output_type": "stream",
     "text": [
      "0\n",
      "1\n",
      "2\n",
      "3\n",
      "4\n",
      "5\n",
      "6\n",
      "7\n",
      "8\n",
      "9\n"
     ]
    }
   ],
   "source": [
    "for x in range(10):\n",
    "    print(x)"
   ]
  },
  {
   "cell_type": "markdown",
   "metadata": {},
   "source": [
    "Much easier. To get the same result with a while loop we would do something like this:"
   ]
  },
  {
   "cell_type": "code",
   "execution_count": 21,
   "metadata": {},
   "outputs": [
    {
     "name": "stdout",
     "output_type": "stream",
     "text": [
      "0\n",
      "1\n",
      "2\n",
      "3\n",
      "4\n",
      "5\n",
      "6\n",
      "7\n",
      "8\n",
      "9\n"
     ]
    }
   ],
   "source": [
    "x = 0\n",
    "while(x < 10):\n",
    "    print(x)\n",
    "    x = x + 1"
   ]
  },
  {
   "cell_type": "markdown",
   "metadata": {},
   "source": [
    "We also have a fair deal over the flow of loop with loop control statements. Loop control statements change execution from its normal sequence.Python supports the following control statements:\n",
    "* break statement\n",
    "    * Terminates the loop statement and transfers execution to the statement immediately following the loop.\n",
    "* continue statement\n",
    "    * Causes the loop to skip the remainder of its body and immediately retest its condition prior to reiterating.\n",
    "\n",
    "* pass statement\n",
    "    * The pass statement in Python is used when a statement is required syntactically but you do not want any command or code to execute.\n",
    "    \n",
    "Feel free to look at the python docs for more examples on how to use these\n",
    "\n",
    "## Wrap up\n",
    "\n",
    "Today you learned about control flow tools such as if/elif/else statements and loops. You now should be proficient enough to complete a project i'll assign after the exercises."
   ]
  },
  {
   "cell_type": "code",
   "execution_count": 22,
   "metadata": {},
   "outputs": [],
   "source": [
    "#Exercise 1: Write a function that checks whether or not a person is old enough to drive"
   ]
  },
  {
   "cell_type": "code",
   "execution_count": 23,
   "metadata": {},
   "outputs": [],
   "source": [
    "#Exercise 2: Write a function that asks a user for input, and prints it out until the user enters in 'stop'"
   ]
  },
  {
   "cell_type": "code",
   "execution_count": 24,
   "metadata": {},
   "outputs": [],
   "source": [
    "#Exercise 3: Write a function that calculates the product of two numbers by using loops "
   ]
  },
  {
   "cell_type": "code",
   "execution_count": 25,
   "metadata": {},
   "outputs": [],
   "source": [
    "#Project 1: Write a function that take asks a user for a number and prints “higher” if the \n",
    "#number is higher than your target number , prints “lower” if the number is lower or prints “correct” if the user guesses your target number.\n",
    "#Bonus:\n",
    "#Read the python docs  and figure out how to use the random class. \n",
    "#Use this class to randomly generate your target number every time a user plays your game\n"
   ]
  },
  {
   "cell_type": "code",
   "execution_count": null,
   "metadata": {},
   "outputs": [],
   "source": []
  },
  {
   "cell_type": "code",
   "execution_count": null,
   "metadata": {},
   "outputs": [],
   "source": []
  }
 ],
 "metadata": {
  "kernelspec": {
   "display_name": "Python 3",
   "language": "python",
   "name": "python3"
  },
  "language_info": {
   "codemirror_mode": {
    "name": "ipython",
    "version": 3
   },
   "file_extension": ".py",
   "mimetype": "text/x-python",
   "name": "python",
   "nbconvert_exporter": "python",
   "pygments_lexer": "ipython3",
   "version": "3.6.1"
  }
 },
 "nbformat": 4,
 "nbformat_minor": 2
}
