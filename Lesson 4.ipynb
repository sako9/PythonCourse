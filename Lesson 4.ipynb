{
 "cells": [
  {
   "cell_type": "markdown",
   "metadata": {},
   "source": [
    "# Intro to Python Programming - Lesson 4\n",
    "\n",
    "### Introduction\n",
    "\n",
    "Welcome back to another Python Lesson! Last week we went over logical operators, if/elif/else statements and loops; If you have been following along with the excercises you also have completed the first project. Today we are going to go over a few more data types, specifically List, tuples, and dicts.Most of the stuff i'm covering today came from [here](http://python-textbok.readthedocs.io/en/1.0/Collections.html) give it a read if you're curious.\n",
    "\n",
    "## Collections\n",
    "\n",
    "A collection is  an object that groups multiple elements into a single unit. Collections are used to store, retrieve, manipulate, and communicate aggregate data. The datatypes that we are going over today are all examples of collections and are very useful when we need to do work on multiple elements\n",
    "\n",
    "### Lists\n",
    "\n",
    "The first collection type we are going to go over are Lists. A List is a type of sequence – we can use it to store multiple values, and access them sequentially, by their position, or index, in the list. We define a list literal by putting a comma-separated list of values inside square brackets ([ and ]):"
   ]
  },
  {
   "cell_type": "code",
   "execution_count": 1,
   "metadata": {},
   "outputs": [],
   "source": [
    "# a list of strings\n",
    "animals = [\"dog\", \"cat\", \"mouse\", \"frog\"]\n",
    "\n",
    "# a list of numbers\n",
    "nums = [1,2 ,3,4,5]\n",
    "\n",
    "# a list of objects\n",
    "\n",
    "stuffs = [1, \"hello\", [1,2,3], 2.3]"
   ]
  },
  {
   "cell_type": "markdown",
   "metadata": {},
   "source": [
    "Note a common convention when defining a list variable is to make the variable plural i.e \"strings\". This just makes it clear that we are dealing with a collection. To refer to an element in a list we have to index it, this is done like this ``` name_of_list[index_of_element]``` where name_of_list is the name of your list and index_of_element is the integer index of the element. In python, the numbering of indexes start at zero meaning that the index of the first element of a list is zero, the index of the second element is 1 and so on."
   ]
  },
  {
   "cell_type": "code",
   "execution_count": 4,
   "metadata": {},
   "outputs": [
    {
     "name": "stdout",
     "output_type": "stream",
     "text": [
      "zero\n",
      "three\n"
     ]
    },
    {
     "ename": "IndexError",
     "evalue": "list index out of range",
     "output_type": "error",
     "traceback": [
      "\u001b[0;31m---------------------------------------------------------------------------\u001b[0m",
      "\u001b[0;31mIndexError\u001b[0m                                Traceback (most recent call last)",
      "\u001b[0;32m<ipython-input-4-687ba57a06d0>\u001b[0m in \u001b[0;36m<module>\u001b[0;34m()\u001b[0m\n\u001b[1;32m      4\u001b[0m \u001b[0;34m\u001b[0m\u001b[0m\n\u001b[1;32m      5\u001b[0m \u001b[0;31m#Note this will error because there is no element at position 4\u001b[0m\u001b[0;34m\u001b[0m\u001b[0;34m\u001b[0m\u001b[0m\n\u001b[0;32m----> 6\u001b[0;31m \u001b[0mprint\u001b[0m\u001b[0;34m(\u001b[0m\u001b[0msamples\u001b[0m\u001b[0;34m[\u001b[0m\u001b[0;36m4\u001b[0m\u001b[0;34m]\u001b[0m\u001b[0;34m)\u001b[0m\u001b[0;34m\u001b[0m\u001b[0m\n\u001b[0m",
      "\u001b[0;31mIndexError\u001b[0m: list index out of range"
     ]
    }
   ],
   "source": [
    "samples = [\"zero\", \"one\", \"two\", \"three\"]\n",
    "print(samples[0])\n",
    "print(samples[3])\n",
    "\n",
    "#Note this will error because there is no element at position 4\n",
    "print(samples[4])"
   ]
  },
  {
   "cell_type": "markdown",
   "metadata": {},
   "source": [
    "In python we can also index backwards using negative numbers. -1 would refer to the end of the list, -2 would refer to the second to the last element and so on"
   ]
  },
  {
   "cell_type": "code",
   "execution_count": 5,
   "metadata": {},
   "outputs": [
    {
     "name": "stdout",
     "output_type": "stream",
     "text": [
      "-1\n",
      "-3\n",
      "zero\n"
     ]
    }
   ],
   "source": [
    "samples = [\"0/-4\", \"1/-3\", \"2/-2\", \"3/-1\"]\n",
    "print(samples[-1])\n",
    "print(samples[-3])"
   ]
  },
  {
   "cell_type": "markdown",
   "metadata": {},
   "source": [
    "We can extract a subset of a list, which will itself be a list, using a slice. This uses almost the same syntax as accessing a single element, but instead of specifying a single index between the square brackets we need to specify an upper and lower bound. Note that our sublist will include the element at the lower bound, but exclude the element at the upper bound:"
   ]
  },
  {
   "cell_type": "code",
   "execution_count": 6,
   "metadata": {},
   "outputs": [
    {
     "name": "stdout",
     "output_type": "stream",
     "text": [
      "['cat', 'mouse']\n",
      "['cat', 'mouse']\n"
     ]
    }
   ],
   "source": [
    "print(animals[1:3]) \n",
    "print(animals[1:-1])"
   ]
  },
  {
   "cell_type": "markdown",
   "metadata": {},
   "source": [
    "If one of the bounds is one of the ends of the list, we can leave it out. A slice with neither bound specified gives us a copy of the list:"
   ]
  },
  {
   "cell_type": "code",
   "execution_count": 7,
   "metadata": {},
   "outputs": [
    {
     "name": "stdout",
     "output_type": "stream",
     "text": [
      "['mouse', 'frog']\n",
      "['dog', 'cat']\n",
      "['dog', 'cat', 'mouse', 'frog']\n"
     ]
    }
   ],
   "source": [
    "print(animals[2:]) \n",
    "print(animals[:2]) \n",
    "print(animals[:]) "
   ]
  },
  {
   "cell_type": "markdown",
   "metadata": {},
   "source": [
    "We can even include a third parameter to specify the step size:"
   ]
  },
  {
   "cell_type": "code",
   "execution_count": 10,
   "metadata": {},
   "outputs": [
    {
     "name": "stdout",
     "output_type": "stream",
     "text": [
      "[2, 4, 6, 8]\n",
      "[1, 3, 5, 7, 10]\n"
     ]
    }
   ],
   "source": [
    "even_and_odd_numbers = [1,2,3,4,5,6,7,8,9]\n",
    "even_numbers = even_and_odd_numbers[1::2]\n",
    "odd_numbers = even_and_odd_numbers[::2]\n",
    "print(even_numbers)\n",
    "print(odd_numbers)"
   ]
  },
  {
   "cell_type": "markdown",
   "metadata": {},
   "source": [
    "Lists are mutable – we can modify elements, add elements to them or remove elements from them. A list will change size dynamically when we add or remove elements – we don’t have to manage this ourselves:"
   ]
  },
  {
   "cell_type": "code",
   "execution_count": 14,
   "metadata": {},
   "outputs": [
    {
     "name": "stdout",
     "output_type": "stream",
     "text": [
      "['maria', 'mas', 'matty']\n",
      "['maria', 'mas', 'matty', 'sara']\n",
      "['maria', 'mas', 'sara']\n"
     ]
    }
   ],
   "source": [
    "names = [\"sam\", \"mas\", \"matty\"]\n",
    "names[0] = \"maria\"\n",
    "print(names)\n",
    "\n",
    "#list have the built-in function append() that allows us to add to a list\n",
    "names.append(\"sara\")\n",
    "print(names)\n",
    "\n",
    "# we can also delete an index by using the build in del command\n",
    "\n",
    "del names[2]\n",
    "print(names)"
   ]
  },
  {
   "cell_type": "markdown",
   "metadata": {},
   "source": [
    "Another nefty thing we can do with python list is check wether or not an item is contain within a list with <b>in</b>"
   ]
  },
  {
   "cell_type": "code",
   "execution_count": 18,
   "metadata": {},
   "outputs": [
    {
     "name": "stdout",
     "output_type": "stream",
     "text": [
      "False\n",
      "True\n"
     ]
    }
   ],
   "source": [
    "print(\"sam\" in names)\n",
    "print(\"mas\" in names)"
   ]
  },
  {
   "cell_type": "code",
   "execution_count": 21,
   "metadata": {},
   "outputs": [],
   "source": [
    "#common built-in functions we can use with lists\n",
    "# the length of a list\n",
    "len(names)\n",
    "\n",
    "# the sum of a list of numbers\n",
    "sum([1,2,3,4,5])\n",
    "\n",
    "# are any of these values true?\n",
    "any([1,0,1,0,1])\n",
    "\n",
    "# are all of these values true?\n",
    "all([1,0,1,0,1])\n",
    "\n",
    "#Some useful list methods\n",
    "numbers = [1, 2, 3, 4, 5]\n",
    "\n",
    "# we already saw how to add an element to the end\n",
    "numbers.append(5)\n",
    "\n",
    "# count how many times a value appears in the list\n",
    "numbers.count(5)\n",
    "\n",
    "# append several values at once to the end\n",
    "numbers.extend([56, 2, 12])\n",
    "\n",
    "# find the index of a value\n",
    "numbers.index(3)\n",
    "# if the value appears more than once, we will get the index of the first one\n",
    "numbers.index(2)\n",
    "# if the value is not in the list, we will get a ValueError!\n",
    "#numbers.index(42)\n",
    "\n",
    "# insert a value at a particular index\n",
    "numbers.insert(0, 45) # insert 45 at the beginning of the list\n",
    "\n",
    "# remove an element by its index and assign it to a variable\n",
    "my_number = numbers.pop(0)\n",
    "\n",
    "# remove an element by its value\n",
    "numbers.remove(12)\n",
    "# if the value appears more than once, only the first one will be removed\n",
    "numbers.remove(5)"
   ]
  },
  {
   "cell_type": "markdown",
   "metadata": {},
   "source": [
    "### Tuples\n",
    "\n",
    "The next collection datatype we are goin to talk about are tuples. Tuples in many ways are like list but are different in one key aspect. List are mutable while tuples are immutable meaning once we create a tuple we can't change it's contents. Why would we want to use a collection we can't change? There can be an instance where you have a collection, like the days of the week, that you wouldn't change and therefore you wouldn't want that collection to accidently change.\n"
   ]
  },
  {
   "cell_type": "code",
   "execution_count": 23,
   "metadata": {},
   "outputs": [
    {
     "name": "stdout",
     "output_type": "stream",
     "text": [
      "cat\n",
      "('dog', 'fish')\n"
     ]
    },
    {
     "data": {
      "text/plain": [
       "0"
      ]
     },
     "execution_count": 23,
     "metadata": {},
     "output_type": "execute_result"
    }
   ],
   "source": [
    "#Tuples can use many of the list methods\n",
    "animals = ('cat', 'dog', 'fish')\n",
    "\n",
    "# an empty tuple\n",
    "my_tuple = ()\n",
    "\n",
    "# we can access a single element\n",
    "print(animals[0])\n",
    "\n",
    "# we can get a slice\n",
    "print(animals[1:]) # note that our slice will be a new tuple, not a list\n",
    "\n",
    "# we can count values or look up an index\n",
    "animals.count('cat')\n",
    "animals.index('cat')\n",
    "\n",
    "# ... but this is not allowed:\n",
    "#animals.append('canary')\n",
    "#animal[1] = 'gerbil'"
   ]
  },
  {
   "cell_type": "markdown",
   "metadata": {},
   "source": [
    "The last collection type we are going to cover are dictionaries. Dictionaries are used to store key-value pairs. A key-value pair is a set of two linked data items: a key, which is a unique identifier for some item of data, and the value, which is the data that is identified. The keys of a dictionary can be any immutable type, including numbers and even tuples. We can mix different types of keys and different types of values in one dictionary. Keys are unique – if we repeat a key, we will overwrite the old value with the new value. When we store a value in a dictionary, the key doesn’t have to exist – it will be created automatically"
   ]
  },
  {
   "cell_type": "code",
   "execution_count": 25,
   "metadata": {},
   "outputs": [
    {
     "name": "stdout",
     "output_type": "stream",
     "text": [
      "30\n",
      "Jane Doe\n",
      "{'John': 'Doe'}\n"
     ]
    },
    {
     "data": {
      "text/plain": [
       "dict_items([('red', 34), ('green', 30), ('brown', 31), ('yellow', 29), ('orange', 34), ('blue', 23), ('purple', 36)])"
      ]
     },
     "execution_count": 25,
     "metadata": {},
     "output_type": "execute_result"
    }
   ],
   "source": [
    "empyt_dict = dict()\n",
    "\n",
    "marbles = {\"red\": 34, \"green\": 30, \"brown\": 31, \"yellow\": 29 }\n",
    "\n",
    "personal_details = {\n",
    "    \"name\": \"Jane Doe\",\n",
    "    \"age\": 38, # trailing comma is legal\n",
    "}\n",
    "\n",
    "print(marbles[\"green\"])\n",
    "print(personal_details[\"name\"])\n",
    "\n",
    "# This will give us an error, because there is no such key in the dictionary\n",
    "#print(marbles[\"blue\"])\n",
    "\n",
    "# modify a value\n",
    "marbles[\"red\"] += 3\n",
    "personal_details[\"name\"] = \"Jane Q. Doe\"\n",
    "\n",
    "battleship_guesses = {\n",
    "    (3, 4): False,\n",
    "    (2, 6): True,\n",
    "    (2, 5): True,\n",
    "}\n",
    "\n",
    "surnames = {} # this is an empty dictionary\n",
    "surnames[\"John\"] = \"Smith\"\n",
    "surnames[\"John\"] = \"Doe\"\n",
    "print(surnames) # we overwrote the older surname\n",
    "\n",
    "marbles = {\"red\": 34, \"green\": 30, \"brown\": 31, \"yellow\": 29 }\n",
    "marbles[\"blue\"] = 30 # this will work\n",
    "\n",
    "#Some commonly used methods\n",
    "marbles = {\"red\": 34, \"green\": 30, \"brown\": 31, \"yellow\": 29 }\n",
    "\n",
    "# Get a value by its key, or None if it doesn't exist\n",
    "marbles.get(\"orange\")\n",
    "# We can specify a different default\n",
    "marbles.get(\"orange\", 0)\n",
    "\n",
    "# Add several items to the dictionary at once\n",
    "marbles.update({\"orange\": 34, \"blue\": 23, \"purple\": 36})\n",
    "\n",
    "# All the keys in the dictionary\n",
    "marbles.keys()\n",
    "# All the values in the dictionary\n",
    "marbles.values()\n",
    "# All the items in the dictionary\n",
    "marbles.items()"
   ]
  },
  {
   "cell_type": "markdown",
   "metadata": {},
   "source": [
    "## Wrap Up\n",
    "\n",
    "Today you learned list, tuples and dict. Below are some excercises to solidify your understanding."
   ]
  },
  {
   "cell_type": "markdown",
   "metadata": {},
   "source": [
    "# Exercise 1\n",
    "1. Create a list a which contains the first three odd positive integers and a list b which contains the first three even positive integers.\n",
    "2. Create a new list c which combines the numbers from both lists (order is unimportant).\n",
    "3. Create a new list d which is a sorted copy of c, leaving c unchanged.(look at the python documentation to learn how to sort lists)\n",
    "4. Set the fourth element of c to 42.\n",
    "5. Append 10 to the end of d.\n",
    "6. Append 7, 8 and 9 to the end of c.\n",
    "7. Print the first three elements of c.\n",
    "8. Print the last element of d without using its length.\n",
    "9. Print the length of d."
   ]
  },
  {
   "cell_type": "markdown",
   "metadata": {},
   "source": [
    "## Exercise 2\n",
    "1. Create a tuple a which contains the first four positive integers and a tuple b which contains the next four positive integers.\n",
    "2. Create a tuple c which combines all the numbers from a and b in any order.\n",
    "3. Create a tuple d which is a sorted copy of c.\n",
    "4. Print the third element of d.\n",
    "5. Print the last three elements of d without using its length.\n",
    "6. Print the length of d."
   ]
  },
  {
   "cell_type": "markdown",
   "metadata": {},
   "source": [
    "## Exercise 3\n",
    "1. Create a dict directory which stores telephone numbers (as string values), and populate it with these key-value pairs:\n",
    "\n",
    "| Name | Telephone number   |\n",
    "| ---- | :-------------------: |\n",
    "|Jane Doe\t|+27 555 5367|\n",
    "|John Smith\t|+27 555 6254|\n",
    "|Bob Stone\t|+27 555 5689|\n",
    "\n",
    "2. Change Jane’s number to +27 555 1024\n",
    "3. Add a new entry for a person called Anna Cooper with the phone number +27 555 3237\n",
    "4. Print Bob’s number.\n",
    "5. Print Bob’s number in such a way that None would be printed if Bob’s name were not in the dictionary.\n",
    "6. Print all the keys. The format is unimportant, as long as they’re all visible.\n",
    "7. Print all the values."
   ]
  },
  {
   "cell_type": "code",
   "execution_count": null,
   "metadata": {},
   "outputs": [],
   "source": []
  },
  {
   "cell_type": "code",
   "execution_count": null,
   "metadata": {},
   "outputs": [],
   "source": []
  }
 ],
 "metadata": {
  "kernelspec": {
   "display_name": "Python 3",
   "language": "python",
   "name": "python3"
  },
  "language_info": {
   "codemirror_mode": {
    "name": "ipython",
    "version": 3
   },
   "file_extension": ".py",
   "mimetype": "text/x-python",
   "name": "python",
   "nbconvert_exporter": "python",
   "pygments_lexer": "ipython3",
   "version": "3.6.1"
  }
 },
 "nbformat": 4,
 "nbformat_minor": 2
}
