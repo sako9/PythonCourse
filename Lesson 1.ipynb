{
 "cells": [
  {
   "cell_type": "markdown",
   "metadata": {},
   "source": [
    "# Intro to Python Programming\n",
    "\n",
    "## Introduction\n",
    "\n",
    "Welcome and greetings everyone! This is a course with the purpose of teaching you have to develop in python. Python is a modern, robust, high level programming language that is relatively easy to pick up even if you are completely new to programming. The goal of this course is to not only teach you have to develop in python but to also teach you have to think like a developer and apply what you learn here to your own projects.\n",
    "\n",
    "### Installation\n",
    "\n",
    "If you haven't already go ahead and install python 3 onto your computer(go ahead and install python 3 even if you already have python 2). You can download python from the <a href=\"https://www.python.org/downloads/\"> python website</a>. Don't forget to select the option that adds python to your path. A link to detailed instruction can be found <a href=\"https://docs.google.com/document/d/1g7xbmVFrcwSBtOlUOslDqYcBTwCY3BdueKDvR0nI1MU/edit?usp=sharing\"> here </a>.\n",
    "\n",
    "Once you've got python all set up run the following bit of code in your terminal(cmd for windows):\n",
    "```\n",
    "$ pip install jupyter[all]\n",
    "```\n",
    "\n",
    "What does do? pip is a package managment system that allows us to install and manage software packages written in python. I'll go into more detail about all the possible modules we can install with pip later. For now we're using pip to install jupyter and all of its dependencies. I will be using jupyter to write up all the lessons and share the jupyter notebooks with you. This allows you to have a copy of everything we've gone over and run the code examples.\n",
    "\n",
    "Once installed run:\n",
    "```\n",
    "jupyter notebook\n",
    "```\n",
    "\n",
    "If you already have one of my jupyter notebooks you should be able to open it in your browser and run any of the code blocks by selecting it and clicking the run button on top(or using shift+enter). Try it out on the code blocks below"
   ]
  },
  {
   "cell_type": "code",
   "execution_count": 11,
   "metadata": {},
   "outputs": [
    {
     "name": "stdout",
     "output_type": "stream",
     "text": [
      "5\n"
     ]
    }
   ],
   "source": [
    "x = 1 + 4\n",
    "print(x)"
   ]
  },
  {
   "cell_type": "code",
   "execution_count": 12,
   "metadata": {},
   "outputs": [
    {
     "name": "stdout",
     "output_type": "stream",
     "text": [
      "10\n"
     ]
    }
   ],
   "source": [
    "y = 2 * x\n",
    "print(y)"
   ]
  },
  {
   "cell_type": "markdown",
   "metadata": {},
   "source": [
    "Pretty cool huh? Now that we got all of that out of the way let's get into the basics.\n",
    "\n",
    "## The Basics\n",
    "\n",
    "Let's start off by playing with the interactive shell. the interactive shell allows us to run python instructions on line at a time and is a good way to familiarize ourselves with the basic. To start the interactive shell all you have to do is open up a console(terminal) and use the command:\n",
    "```\n",
    "$ python\n",
    "```\n",
    "And that's it! You are now in the interactive shell!\n",
    "\n",
    "### Let's do some Math!\n",
    "\n",
    "Let's try out the interactive shell by doing some Math! In your console/terminal(or in the space below) type in ```2 + 2```. You should get an output of 4. Congrats you just wrote your first python expression! An expression is the most basic kind of programming instruction in a programming language. Expressions consist of values (such as 2) and operators (such as +), and they can always evaluate (that is, reduce) down to a single value. That means you can use expressions anywhere in Python code that you could also use a value.\n",
    "\n",
    "In the previous example, 2 + 2 is evaluated down to a single value, 4. A single value with no operators is also considered an expression, though it evaluates only to itself."
   ]
  },
  {
   "cell_type": "code",
   "execution_count": 4,
   "metadata": {},
   "outputs": [
    {
     "data": {
      "text/plain": [
       "4"
      ]
     },
     "execution_count": 4,
     "metadata": {},
     "output_type": "execute_result"
    }
   ],
   "source": [
    "2 + 2"
   ]
  },
  {
   "cell_type": "code",
   "execution_count": 3,
   "metadata": {},
   "outputs": [
    {
     "data": {
      "text/plain": [
       "2"
      ]
     },
     "execution_count": 3,
     "metadata": {},
     "output_type": "execute_result"
    }
   ],
   "source": [
    "2"
   ]
  },
  {
   "cell_type": "code",
   "execution_count": 6,
   "metadata": {},
   "outputs": [
    {
     "data": {
      "text/plain": [
       "8"
      ]
     },
     "execution_count": 6,
     "metadata": {},
     "output_type": "execute_result"
    }
   ],
   "source": [
    "# Here is a list of other math operators you can use\n",
    "#Exponent\n",
    "2**3"
   ]
  },
  {
   "cell_type": "code",
   "execution_count": 7,
   "metadata": {},
   "outputs": [
    {
     "data": {
      "text/plain": [
       "6"
      ]
     },
     "execution_count": 7,
     "metadata": {},
     "output_type": "execute_result"
    }
   ],
   "source": [
    "#modulus aka how to find the remainder\n",
    "22 % 8"
   ]
  },
  {
   "cell_type": "code",
   "execution_count": 8,
   "metadata": {},
   "outputs": [
    {
     "data": {
      "text/plain": [
       "3"
      ]
     },
     "execution_count": 8,
     "metadata": {},
     "output_type": "execute_result"
    }
   ],
   "source": [
    "#Integer division , rounds down\n",
    "26 // 7"
   ]
  },
  {
   "cell_type": "code",
   "execution_count": 9,
   "metadata": {},
   "outputs": [
    {
     "data": {
      "text/plain": [
       "6.0"
      ]
     },
     "execution_count": 9,
     "metadata": {},
     "output_type": "execute_result"
    }
   ],
   "source": [
    "#Division \n",
    "24 / 4"
   ]
  },
  {
   "cell_type": "code",
   "execution_count": 10,
   "metadata": {},
   "outputs": [
    {
     "data": {
      "text/plain": [
       "36"
      ]
     },
     "execution_count": 10,
     "metadata": {},
     "output_type": "execute_result"
    }
   ],
   "source": [
    "#Multiplication\n",
    "6*6"
   ]
  },
  {
   "cell_type": "code",
   "execution_count": 11,
   "metadata": {},
   "outputs": [
    {
     "data": {
      "text/plain": [
       "30"
      ]
     },
     "execution_count": 11,
     "metadata": {},
     "output_type": "execute_result"
    }
   ],
   "source": [
    "#subtraction\n",
    "34 - 4"
   ]
  },
  {
   "cell_type": "markdown",
   "metadata": {},
   "source": [
    "The order of operations (also called precedence) of Python math operators is similar to that of mathematics. The ** operator is evaluated first; the *, /, //, and % operators are evaluated next, from left to right; and the + and - operators are evaluated last (also from left to right). You can use parentheses to override the usual precedence if you need to.\n",
    "\n",
    "### Let's talk about Datatypes\n",
    "\n",
    "Now let's talk about datatypes. If you went through the example above you'll have already seen two datatype, specifically ints and floats. Ints indicate values that are whole numbers(0,1,2,3,...) while floats indicate values that are deciamal values(.1,3.14,23.23,...). Thing to note, thought the value 42 is an int the value 42.0 is a float. If you ever have trouble distinguishing in between the two just rememeber that anything number with a decimal point is a float and any number without one is an int.\n",
    "\n",
    "Datatypes tells python( and us) what kind of values we are working with and what actions can be performed on those values. To give a clearer example of this, let's introduce another datatype called <i>str</i>. The str (aka strings) datatypes indicates textual values. Strs start and end with a quote('') or double quote(\"\") with characters in between. \"Hello world\" is an example of a string. Before we added two numbers(ints) together with the '+' operator but what happens when we use '+' on two strings?"
   ]
  },
  {
   "cell_type": "code",
   "execution_count": 1,
   "metadata": {},
   "outputs": [
    {
     "data": {
      "text/plain": [
       "'HelloWorld'"
      ]
     },
     "execution_count": 1,
     "metadata": {},
     "output_type": "execute_result"
    }
   ],
   "source": [
    "\"Hello\" + \"World\""
   ]
  },
  {
   "cell_type": "markdown",
   "metadata": {},
   "source": [
    "It concatenated the two strings together! Depending on the datatype being used operators like '+' have different functions. Datatypes also have methods that are unqiue to that datatype. To learn more about the different datatypes in python and the unique features of each datatype checkout the python Documentation https://docs.python.org/3/library/stdtypes.html\n",
    "\n",
    "In this lesson we went over how to install and use python, and we went over the basics of the int, float and string datatypes. You should now have to means to play around with python and familiarize yourself with the python terminal. I've added some exercises below that are <b>not</b> mandatory, do them if you wish and if you want to have me look over it please send a copy of your notebook to <mailto:sunny.wosu@gmail.com> with the subject of Python Basics - Lesson 1 \"Your name\". "
   ]
  },
  {
   "cell_type": "code",
   "execution_count": 4,
   "metadata": {},
   "outputs": [
    {
     "data": {
      "text/plain": [
       "4"
      ]
     },
     "execution_count": 4,
     "metadata": {},
     "output_type": "execute_result"
    }
   ],
   "source": [
    "#Exercise 1(coding): Write a mathmatical expression that sums to 42 using two or more operators\n",
    "2 + 2"
   ]
  },
  {
   "cell_type": "markdown",
   "metadata": {},
   "source": [
    "Exercise 2(short anwers): What is the difference between int and float? How can you tell if a value is an int vs a float?\n",
    "\n"
   ]
  },
  {
   "cell_type": "markdown",
   "metadata": {},
   "source": [
    "Exercise 3(coding/short answer): Using your terminal, enter the following expressions and determine what datatype it returns.\n",
    "\n",
    "1. 2 + 2\n",
    "\n",
    "2. 56 / 4\n",
    "\n",
    "3. 56 / 4.0\n",
    "\n",
    "4. 20 + 'hello'\n",
    "\n",
    "5. 'world' * 2\n",
    "\n",
    "\n",
    "\n",
    "1. \n",
    "2. \n",
    "3. \n",
    "4. \n",
    "5. \n"
   ]
  },
  {
   "cell_type": "code",
   "execution_count": 5,
   "metadata": {},
   "outputs": [
    {
     "data": {
      "text/plain": [
       "True"
      ]
     },
     "execution_count": 5,
     "metadata": {},
     "output_type": "execute_result"
    }
   ],
   "source": [
    "# Exercise 4(coding): Go to https://docs.python.org/3/library/stdtypes.html and read up on the methods for\n",
    "# int, floats and strs. Choose one and use it below\n",
    "\n",
    "#Replace this\n",
    "\"1\".isdigit()"
   ]
  }
 ],
 "metadata": {
  "kernelspec": {
   "display_name": "Python 3",
   "language": "python",
   "name": "python3"
  },
  "language_info": {
   "codemirror_mode": {
    "name": "ipython",
    "version": 3
   },
   "file_extension": ".py",
   "mimetype": "text/x-python",
   "name": "python",
   "nbconvert_exporter": "python",
   "pygments_lexer": "ipython3",
   "version": "3.6.1"
  }
 },
 "nbformat": 4,
 "nbformat_minor": 2
}
