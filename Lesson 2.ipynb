{
 "cells": [
  {
   "cell_type": "markdown",
   "metadata": {},
   "source": [
    "# Intro to Python Programming - Lesson 2\n",
    "\n",
    "## Introduction\n",
    "\n",
    "Welcome back to another lesson! Last time we covered getting python installed, using the python interperter, and datatypes. Today we are going to go over variables and functions(methods). \n",
    "\n",
    "### Variables\n",
    "\n",
    "Variables are used to store information that can be referenced and manipulated in a program. They also provide a way of labeling data with a descriptive name, so our programs can be understood more clearly by the reader and ourselves(usually... sometimes... naming is hard)."
   ]
  },
  {
   "cell_type": "code",
   "execution_count": 2,
   "metadata": {},
   "outputs": [],
   "source": [
    "sum = 2 + 3"
   ]
  },
  {
   "cell_type": "markdown",
   "metadata": {},
   "source": [
    "In the code snippet above we stored the value of the expression ```2 + 3 ``` into the variable sum. The variable ```sum``` can now be referenced later in another expression like so"
   ]
  },
  {
   "cell_type": "code",
   "execution_count": 3,
   "metadata": {},
   "outputs": [
    {
     "data": {
      "text/plain": [
       "50"
      ]
     },
     "execution_count": 3,
     "metadata": {},
     "output_type": "execute_result"
    }
   ],
   "source": [
    "sum * 10"
   ]
  },
  {
   "cell_type": "markdown",
   "metadata": {},
   "source": [
    "When you start writing larger programs with complex logic the use of variables makes it much easier to keep track of values that you need throught your program. Now some of you who have experience with other programming language may have noticed something strange, in other languages you have to declare the datatype of a variable. In c that would look like this ``` int sum = 2 + 4; ```. Why don't we have to do that in python? That's because python does it for you during runtime( when your code is actually running). When the interpreter sees a variable it looks to see what value is being stored into the variable to determine the type of the variable. Languages that do this are called Dynamically-typed languages.\n",
    "\n",
    "#### Naming Rules and Conventions\n",
    "\n",
    "When it comes time to define a new variables there are a few rules you need to follow when picking a variable name. The rules are as followed:\n",
    "\n",
    "* Variables names must start witha a letter or an underscore, such a\n",
    "    * _underscore\n",
    "    * underscore_\n",
    "* The remainder of your variable name may consist of letters, numbers, and underscores.\n",
    "    * password1\n",
    "    * n00b\n",
    "    * un_der_scores\n",
    "* Names are case sensitive.\n",
    "    * case_sensitive, CASE_SENSITIVE, and Case_Sensitive are each different variable.\n",
    "* Names cannot be the same as pythons reserved words\n",
    "    * and, as, assert, break, class, continue,... are a few of pythons reserved words\n",
    "\n",
    "The rules are all you really need to know when it comes to naming variables but since we're learning python we should strive to keep our code pythonic i.e. writting code that follows the conventions set forth by the python community to keep code clear, consice and maintainable. Some of the naming conventions regarding variables are as followed:\n",
    "\n",
    "* Readability is very important when defining a variable use lowercase with words separated by underscores as necessary to improve readablity.\n",
    "    * this_is_a_variable\n",
    "    * first_name\n",
    "    * average_max_velocity\n",
    "    \n",
    "* Descriptive names are very useful. Remember if someone else can't look at your code and devine the purpose of the variable you yourself may forget. Which makes more sense?\n",
    "    * sum_of_speeds\n",
    "    * s\n",
    "    * speeds\n",
    "\n",
    "* Avoid using the lowercase letter'l', uppercase 'O', and uppercase 'I'. Why? Because (depending on the font) I and l and 1 look very similar. And 0 and O also look vary similar\n",
    "\n",
    "\n",
    "### Functions\n",
    "\n",
    "A function is a block of organized, reusable code that is used to perform a single, related action. Functions allow for modularity and a high degree of code resuse. Python has many built in functions we can use in our programs. One of the most useful( in my opinion) is the print function. It takes in an object and prints it out."
   ]
  },
  {
   "cell_type": "code",
   "execution_count": 4,
   "metadata": {},
   "outputs": [
    {
     "name": "stdout",
     "output_type": "stream",
     "text": [
      "hello world\n"
     ]
    }
   ],
   "source": [
    "print(\"hello world\")"
   ]
  },
  {
   "cell_type": "code",
   "execution_count": 5,
   "metadata": {},
   "outputs": [
    {
     "name": "stdout",
     "output_type": "stream",
     "text": [
      "5\n"
     ]
    }
   ],
   "source": [
    "print(sum)"
   ]
  },
  {
   "cell_type": "code",
   "execution_count": 6,
   "metadata": {},
   "outputs": [
    {
     "name": "stdout",
     "output_type": "stream",
     "text": [
      "hello world 5\n"
     ]
    }
   ],
   "source": [
    "print(\"hello world\", sum)"
   ]
  },
  {
   "cell_type": "code",
   "execution_count": 8,
   "metadata": {},
   "outputs": [
    {
     "name": "stdout",
     "output_type": "stream",
     "text": [
      "Enter in a number45\n",
      "45\n"
     ]
    }
   ],
   "source": [
    "user_input = input(\"Enter in a number\")\n",
    "print(user_input)"
   ]
  },
  {
   "cell_type": "markdown",
   "metadata": {},
   "source": [
    "Built in functions are pretty useful but we can also define our own functions. Here are simple rules to define a function in python.\n",
    "\n",
    "* Function blocks begin with the def followed by the function name and parentheses ().\n",
    "    * Function names follow the same conventions as variable names\n",
    "* Any input parameters or arguments should be placed within the parentheses (arg1, arg2, ...)\n",
    "* the code block within every function starts with a colon ```:``` and is indented\n",
    "* You can use ```return``` to exit out of your function and to return a value back to the function caller."
   ]
  },
  {
   "cell_type": "code",
   "execution_count": 9,
   "metadata": {},
   "outputs": [
    {
     "data": {
      "text/plain": [
       "'sam'"
      ]
     },
     "execution_count": 9,
     "metadata": {},
     "output_type": "execute_result"
    }
   ],
   "source": [
    "def foo(arg):\n",
    "    math = arg\n",
    "    for x in range(5):\n",
    "        print(\"we are in a loop\")\n",
    "    return math\n",
    "foo(\"sam\")"
   ]
  },
  {
   "cell_type": "code",
   "execution_count": 33,
   "metadata": {},
   "outputs": [
    {
     "data": {
      "text/plain": [
       "5"
      ]
     },
     "execution_count": 33,
     "metadata": {},
     "output_type": "execute_result"
    }
   ],
   "source": [
    "def add_two(num):\n",
    "    return num + 2\n",
    "add_two(3)"
   ]
  },
  {
   "cell_type": "code",
   "execution_count": 18,
   "metadata": {},
   "outputs": [
    {
     "data": {
      "text/plain": [
       "25.666666666666668"
      ]
     },
     "execution_count": 18,
     "metadata": {},
     "output_type": "execute_result"
    }
   ],
   "source": [
    "def average_of_three(num,num2,num3):\n",
    "    sum_of_three = num + num2 + num3\n",
    "    return sum_of_three/3\n",
    "average_of_three(10,23,44)"
   ]
  },
  {
   "cell_type": "markdown",
   "metadata": {},
   "source": [
    "### Code blocks\n",
    "\n",
    "What is a code block? A code block consists of a sequence of expressions and/or blocks.Blocks are essentially a logical group. A block are idicated by a semi-colon ```:``` ,a new line, and an indentation. For example functions are blocks, and the contents of the function is indented to indicate they it's apart of the function.\n",
    "\n",
    "``` \n",
    "def block() :\n",
    "    #indendted block content\n",
    "    #more content\n",
    " #Incorrect Indentation, Indentation must line up with each other\n",
    "      ```\n",
    "To indent block you can use tabs or spaces. 2 or 4 spaces are generally used.\n",
    "\n",
    "Later on we will see other forms of block logic and how we can tie them all together.\n"
   ]
  },
  {
   "cell_type": "markdown",
   "metadata": {},
   "source": [
    "In this lesson we learned about variables and functions. You should now be able to create a variable, define a function and you should have an idea of the naming conventions used for bothe variables and functions. I've added some exercises below that are not mandatory, do them if you wish and if you want to have me look over it please send a copy of your notebook to sunny.wosu@gmail.com with the subject of Python Basics - Lesson s \"Your name\". "
   ]
  },
  {
   "cell_type": "code",
   "execution_count": 20,
   "metadata": {},
   "outputs": [],
   "source": [
    "# Exercise 1: create a variable with a valid name and use it in an expression\n"
   ]
  },
  {
   "cell_type": "code",
   "execution_count": 27,
   "metadata": {},
   "outputs": [
    {
     "name": "stdout",
     "output_type": "stream",
     "text": [
      "enter a number:5\n"
     ]
    }
   ],
   "source": [
    "# Excercise 2: the built in command input() allows you to take in input from a user and returns it as a string.\n",
    "# Use the input() functions and store the value it returns as a variable and print it out.\n",
    "# You can even display a message to a user by calling input with a string i.e. input('enter a number')\n"
   ]
  },
  {
   "cell_type": "code",
   "execution_count": 21,
   "metadata": {},
   "outputs": [],
   "source": [
    "# Exercise 3: create a function that takes in a string and a number x and prints that strings x number of times.\n",
    "# Don't forget to call your function\n",
    "\n",
    "    "
   ]
  },
  {
   "cell_type": "code",
   "execution_count": null,
   "metadata": {},
   "outputs": [],
   "source": [
    "# Exercise 3: Python comes with many built-in functions, look throught the python documentation \n",
    "# and try out one of them below\n",
    "\n",
    "#Example\n",
    "help(str)"
   ]
  },
  {
   "cell_type": "code",
   "execution_count": null,
   "metadata": {},
   "outputs": [],
   "source": [
    "# Exercise 4: Write a function that can take in two values, in your function use at least two built in python functions\n",
    "# other than the print function. Then define two variables and use the input() function to store values into the\n",
    "# variables. Call your function with those variables.\n"
   ]
  },
  {
   "cell_type": "markdown",
   "metadata": {},
   "source": [
    "Exercise 5: Choose the better variable name.\n",
    "\n",
    "1. A variable to store the sum\n",
    "    * sum\n",
    "    * x\n",
    "2. A variable to store a first name\n",
    "    * first_name\n",
    "    * FirstName\n",
    "3. A variable to store the average\n",
    "    * aVerAg3\n",
    "    * average\n",
    "    \n",
    "    \n",
    "1. \n",
    "2. \n",
    "3. "
   ]
  },
  {
   "cell_type": "markdown",
   "metadata": {},
   "source": [
    "Exercise 5: Take some time to look through [PEP8](https://www.python.org/dev/peps/pep-0008/) this is the style guide for python code and is a good reference for those who want their code to look more pythonic."
   ]
  },
  {
   "cell_type": "code",
   "execution_count": 23,
   "metadata": {},
   "outputs": [
    {
     "name": "stdout",
     "output_type": "stream",
     "text": [
      "The Zen of Python, by Tim Peters\n",
      "\n",
      "Beautiful is better than ugly.\n",
      "Explicit is better than implicit.\n",
      "Simple is better than complex.\n",
      "Complex is better than complicated.\n",
      "Flat is better than nested.\n",
      "Sparse is better than dense.\n",
      "Readability counts.\n",
      "Special cases aren't special enough to break the rules.\n",
      "Although practicality beats purity.\n",
      "Errors should never pass silently.\n",
      "Unless explicitly silenced.\n",
      "In the face of ambiguity, refuse the temptation to guess.\n",
      "There should be one-- and preferably only one --obvious way to do it.\n",
      "Although that way may not be obvious at first unless you're Dutch.\n",
      "Now is better than never.\n",
      "Although never is often better than *right* now.\n",
      "If the implementation is hard to explain, it's a bad idea.\n",
      "If the implementation is easy to explain, it may be a good idea.\n",
      "Namespaces are one honking great idea -- let's do more of those!\n"
     ]
    }
   ],
   "source": [
    "import this"
   ]
  },
  {
   "cell_type": "code",
   "execution_count": null,
   "metadata": {},
   "outputs": [],
   "source": []
  }
 ],
 "metadata": {
  "kernelspec": {
   "display_name": "Python 3",
   "language": "python",
   "name": "python3"
  },
  "language_info": {
   "codemirror_mode": {
    "name": "ipython",
    "version": 3
   },
   "file_extension": ".py",
   "mimetype": "text/x-python",
   "name": "python",
   "nbconvert_exporter": "python",
   "pygments_lexer": "ipython3",
   "version": "3.6.1"
  }
 },
 "nbformat": 4,
 "nbformat_minor": 2
}
